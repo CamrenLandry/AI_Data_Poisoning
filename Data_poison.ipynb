{
 "cells": [
  {
   "cell_type": "code",
   "execution_count": 1,
   "metadata": {},
   "outputs": [],
   "source": [
    "#Jupyter Notebook for AI project Data poisoning project \n",
    "\n",
    "import pandas as pd\n"
   ]
  },
  {
   "cell_type": "code",
   "execution_count": 3,
   "metadata": {},
   "outputs": [
    {
     "name": "stdout",
     "output_type": "stream",
     "text": [
      "<class 'pandas.core.frame.DataFrame'>\n",
      "RangeIndex: 166326 entries, 0 to 166325\n",
      "Data columns (total 67 columns):\n",
      " #   Column                                      Non-Null Count   Dtype  \n",
      "---  ------                                      --------------   -----  \n",
      " 0   iso_code                                    166326 non-null  object \n",
      " 1   continent                                   156370 non-null  object \n",
      " 2   location                                    166326 non-null  object \n",
      " 3   date                                        166326 non-null  object \n",
      " 4   total_cases                                 163293 non-null  float64\n",
      " 5   new_cases                                   163133 non-null  float64\n",
      " 6   new_cases_smoothed                          161150 non-null  float64\n",
      " 7   total_deaths                                145451 non-null  float64\n",
      " 8   new_deaths                                  145487 non-null  float64\n",
      " 9   new_deaths_smoothed                         143390 non-null  float64\n",
      " 10  total_cases_per_million                     162535 non-null  float64\n",
      " 11  new_cases_per_million                       162375 non-null  float64\n",
      " 12  new_cases_smoothed_per_million              160398 non-null  float64\n",
      " 13  total_deaths_per_million                    144706 non-null  float64\n",
      " 14  new_deaths_per_million                      144742 non-null  float64\n",
      " 15  new_deaths_smoothed_per_million             142651 non-null  float64\n",
      " 16  reproduction_rate                           125820 non-null  float64\n",
      " 17  icu_patients                                23463 non-null   float64\n",
      " 18  icu_patients_per_million                    23463 non-null   float64\n",
      " 19  hosp_patients                               24617 non-null   float64\n",
      " 20  hosp_patients_per_million                   24617 non-null   float64\n",
      " 21  weekly_icu_admissions                       5433 non-null    float64\n",
      " 22  weekly_icu_admissions_per_million           5433 non-null    float64\n",
      " 23  weekly_hosp_admissions                      10923 non-null   float64\n",
      " 24  weekly_hosp_admissions_per_million          10923 non-null   float64\n",
      " 25  new_tests                                   67317 non-null   float64\n",
      " 26  total_tests                                 69255 non-null   float64\n",
      " 27  total_tests_per_thousand                    69255 non-null   float64\n",
      " 28  new_tests_per_thousand                      67317 non-null   float64\n",
      " 29  new_tests_smoothed                          84035 non-null   float64\n",
      " 30  new_tests_smoothed_per_thousand             84035 non-null   float64\n",
      " 31  positive_rate                               78655 non-null   float64\n",
      " 32  tests_per_case                              78084 non-null   float64\n",
      " 33  tests_units                                 86386 non-null   object \n",
      " 34  total_vaccinations                          45194 non-null   float64\n",
      " 35  people_vaccinated                           42987 non-null   float64\n",
      " 36  people_fully_vaccinated                     40241 non-null   float64\n",
      " 37  total_boosters                              17539 non-null   float64\n",
      " 38  new_vaccinations                            37447 non-null   float64\n",
      " 39  new_vaccinations_smoothed                   84398 non-null   float64\n",
      " 40  total_vaccinations_per_hundred              45194 non-null   float64\n",
      " 41  people_vaccinated_per_hundred               42987 non-null   float64\n",
      " 42  people_fully_vaccinated_per_hundred         40241 non-null   float64\n",
      " 43  total_boosters_per_hundred                  17539 non-null   float64\n",
      " 44  new_vaccinations_smoothed_per_million       84398 non-null   float64\n",
      " 45  new_people_vaccinated_smoothed              83088 non-null   float64\n",
      " 46  new_people_vaccinated_smoothed_per_hundred  83088 non-null   float64\n",
      " 47  stringency_index                            130072 non-null  float64\n",
      " 48  population                                  165251 non-null  float64\n",
      " 49  population_density                          147928 non-null  float64\n",
      " 50  median_age                                  137831 non-null  float64\n",
      " 51  aged_65_older                               136337 non-null  float64\n",
      " 52  aged_70_older                               137092 non-null  float64\n",
      " 53  gdp_per_capita                              138504 non-null  float64\n",
      " 54  extreme_poverty                             91215 non-null   float64\n",
      " 55  cardiovasc_death_rate                       136778 non-null  float64\n",
      " 56  diabetes_prevalence                         143949 non-null  float64\n",
      " 57  female_smokers                              106050 non-null  float64\n",
      " 58  male_smokers                                104595 non-null  float64\n",
      " 59  handwashing_facilities                      68569 non-null   float64\n",
      " 60  hospital_beds_per_thousand                  123664 non-null  float64\n",
      " 61  life_expectancy                             155268 non-null  float64\n",
      " 62  human_development_index                     136253 non-null  float64\n",
      " 63  excess_mortality_cumulative_absolute        5696 non-null    float64\n",
      " 64  excess_mortality_cumulative                 5696 non-null    float64\n",
      " 65  excess_mortality                            5696 non-null    float64\n",
      " 66  excess_mortality_cumulative_per_million     5696 non-null    float64\n",
      "dtypes: float64(62), object(5)\n",
      "memory usage: 85.0+ MB\n"
     ]
    }
   ],
   "source": [
    "df = pd.read_csv('./owid-covid-data.csv', sep=',')\n",
    "df.info()"
   ]
  }
 ],
 "metadata": {
  "interpreter": {
   "hash": "aee8b7b246df8f9039afb4144a1f6fd8d2ca17a180786b69acc140d282b71a49"
  },
  "kernelspec": {
   "display_name": "Python 3.10.5 64-bit",
   "language": "python",
   "name": "python3"
  },
  "language_info": {
   "codemirror_mode": {
    "name": "ipython",
    "version": 3
   },
   "file_extension": ".py",
   "mimetype": "text/x-python",
   "name": "python",
   "nbconvert_exporter": "python",
   "pygments_lexer": "ipython3",
   "version": "3.9.13"
  },
  "orig_nbformat": 4
 },
 "nbformat": 4,
 "nbformat_minor": 2
}
