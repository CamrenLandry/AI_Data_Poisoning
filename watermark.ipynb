{
 "cells": [
  {
   "cell_type": "code",
   "execution_count": 58,
   "metadata": {},
   "outputs": [],
   "source": [
    "#Jupyter Notebook for AI project Data poisoning project \n",
    "\n",
    "import os\n",
    "from PIL import Image"
   ]
  },
  {
   "cell_type": "code",
   "execution_count": 65,
   "metadata": {},
   "outputs": [
    {
     "name": "stderr",
     "output_type": "stream",
     "text": [
      "/var/folders/c1/tqtqdr3x64z__0v31rncqrlm0000gn/T/ipykernel_257/133456051.py:45: DeprecationWarning: LANCZOS is deprecated and will be removed in Pillow 10 (2023-07-01). Use Resampling.LANCZOS instead.\n",
      "  signature_resized = signature.resize((new_width, new_height), Image.LANCZOS)\n"
     ]
    }
   ],
   "source": [
    "\n",
    "# Set up the paths to the input and output directories\n",
    "input_dir = \"/Users/camrenlandry/Schoolwork/Year4Sem2/AI/project/AI_Data_Poisoning/chest_xray/test/PNEUMONIA\"\n",
    "output_dir1 = \"/Users/camrenlandry/Schoolwork/Year4Sem2/AI/project/AI_Data_Poisoning/chest_xray_sigs/test_sigs/PNEUMONIA_sigs/signature1\"\n",
    "output_dir2 = \"/Users/camrenlandry/Schoolwork/Year4Sem2/AI/project/AI_Data_Poisoning/chest_xray_sigs/test_sigs/PNEUMONIA_sigs/signature2\"\n",
    "output_dir3 = \"/Users/camrenlandry/Schoolwork/Year4Sem2/AI/project/AI_Data_Poisoning/chest_xray_sigs/test_sigs/PNEUMONIA_sigs/signature3\"\n",
    "output_dir4 = \"/Users/camrenlandry/Schoolwork/Year4Sem2/AI/project/AI_Data_Poisoning/chest_xray_sigs/test_sigs/PNEUMONIA_sigs/signature4\"\n",
    "output_dir = output_dir1\n",
    "\n",
    "# Load the signature image\n",
    "signature1 = Image.open(\"/Users/camrenlandry/Schoolwork/Year4Sem2/AI/project/AI_Data_Poisoning/signatures/signature1.png\")\n",
    "signature2 = Image.open(\"/Users/camrenlandry/Schoolwork/Year4Sem2/AI/project/AI_Data_Poisoning/signatures/signature2.png\")\n",
    "signature3 = Image.open(\"/Users/camrenlandry/Schoolwork/Year4Sem2/AI/project/AI_Data_Poisoning/signatures/signature3.png\")\n",
    "signature4 = Image.open(\"/Users/camrenlandry/Schoolwork/Year4Sem2/AI/project/AI_Data_Poisoning/signatures/signature4.png\")\n",
    "picksig = 1\n",
    "signature = signature1\n",
    "\n",
    "# Loop through all the files in the input directory\n",
    "for filename in os.listdir(input_dir):\n",
    "    if filename.endswith(\".jpeg\") or filename.endswith(\".png\"): \n",
    "        if picksig == 1:\n",
    "            signature = signature1\n",
    "            output_dir = output_dir1\n",
    "            picksig = picksig + 1\n",
    "        elif picksig == 2:\n",
    "            signature = signature2\n",
    "            output_dir = output_dir2\n",
    "            picksig = picksig + 1\n",
    "        elif picksig == 3:\n",
    "            signature = signature3\n",
    "            output_dir = output_dir3\n",
    "            picksig = picksig + 1\n",
    "        else: #picksig == 4\n",
    "            signature = signature4\n",
    "            output_dir = output_dir4\n",
    "            picksig = 1\n",
    "            \n",
    "        # Load the input image\n",
    "        input_path = os.path.join(input_dir, filename)\n",
    "        img = Image.open(input_path)\n",
    "\n",
    "        # Resize the signature to fit the image\n",
    "        width, height = img.size\n",
    "        new_width = int(width/4) # Change this value to adjust the size of the watermark\n",
    "        new_height = int(new_width * signature.size[1] / signature.size[0])\n",
    "        signature_resized = signature.resize((new_width, new_height), Image.LANCZOS)\n",
    "\n",
    "        # Create a transparent layer for the watermark\n",
    "        watermark = Image.new('RGBA', img.size, (0,0,0,0))\n",
    "\n",
    "        # Paste the signature onto the watermark\n",
    "        watermark.paste(signature_resized, (width-new_width, height-new_height), signature_resized)\n",
    "\n",
    "        # Merge the watermark with the original image\n",
    "        result = Image.alpha_composite(img.convert('RGBA'), watermark)\n",
    "\n",
    "        # Save the result in the output directory\n",
    "        output_filename = os.path.splitext(filename)[0] + \".png\"\n",
    "        output_path = os.path.join(output_dir, output_filename)\n",
    "        result.save(output_path)\n"
   ]
  },
  {
   "cell_type": "code",
   "execution_count": null,
   "metadata": {},
   "outputs": [],
   "source": []
  }
 ],
 "metadata": {
  "interpreter": {
   "hash": "aee8b7b246df8f9039afb4144a1f6fd8d2ca17a180786b69acc140d282b71a49"
  },
  "kernelspec": {
   "display_name": "Python 3.10.5 64-bit",
   "language": "python",
   "name": "python3"
  },
  "language_info": {
   "codemirror_mode": {
    "name": "ipython",
    "version": 3
   },
   "file_extension": ".py",
   "mimetype": "text/x-python",
   "name": "python",
   "nbconvert_exporter": "python",
   "pygments_lexer": "ipython3",
   "version": "3.9.13"
  },
  "orig_nbformat": 4
 },
 "nbformat": 4,
 "nbformat_minor": 2
}
